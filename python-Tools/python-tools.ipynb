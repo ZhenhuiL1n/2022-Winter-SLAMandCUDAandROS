{
 "cells": [
  {
   "attachments": {},
   "cell_type": "markdown",
   "metadata": {},
   "source": [
    "This is the tools for the python toolkits."
   ]
  },
  {
   "cell_type": "code",
   "execution_count": 1,
   "metadata": {},
   "outputs": [
    {
     "name": "stdout",
     "output_type": "stream",
     "text": [
      "found 3816 pictures\n",
      "finished!\n"
     ]
    }
   ],
   "source": [
    "# Firstly, it is  a rename tool for the images in the folder.\n",
    "\n",
    "\n",
    "import os\n",
    "\n",
    "start = 0000 # 开始的序号\n",
    "\n",
    "image_dir = './image/'  # 源图片路径\n",
    "images_list = os.listdir(image_dir)\n",
    "nums = len(os.listdir(image_dir))\n",
    "print('found %d pictures' % nums)\n",
    "output_dir = './new/'  # 图像重命名后的保存路径\n",
    "\n",
    "for i in images_list:\n",
    "    os.rename(image_dir+i,output_dir+str(start)+'.jpg') # 前面是旧的路径,后面是新路径\n",
    "    start = start + 1\n",
    "\n",
    "print('finished!')"
   ]
  }
 ],
 "metadata": {
  "kernelspec": {
   "display_name": "Python 3",
   "language": "python",
   "name": "python3"
  },
  "language_info": {
   "codemirror_mode": {
    "name": "ipython",
    "version": 3
   },
   "file_extension": ".py",
   "mimetype": "text/x-python",
   "name": "python",
   "nbconvert_exporter": "python",
   "pygments_lexer": "ipython3",
   "version": "3.8.10"
  },
  "orig_nbformat": 4,
  "vscode": {
   "interpreter": {
    "hash": "916dbcbb3f70747c44a77c7bcd40155683ae19c65e1c03b4aa3499c5328201f1"
   }
  }
 },
 "nbformat": 4,
 "nbformat_minor": 2
}
